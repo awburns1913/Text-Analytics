{
 "cells": [
  {
   "cell_type": "code",
   "execution_count": 1,
   "metadata": {},
   "outputs": [],
   "source": [
    "import pandas as pd\n",
    "import nltk\n",
    "import nltk.corpus\n",
    "import string\n",
    "import numpy as np\n",
    "import gensim\n",
    "import re\n",
    "from sklearn.feature_extraction.text import TfidfVectorizer\n",
    "from sklearn.metrics.pairwise import cosine_similarity\n",
    "from sklearn.cluster import KMeans\n",
    "\n"
   ]
  },
  {
   "cell_type": "code",
   "execution_count": 2,
   "metadata": {},
   "outputs": [],
   "source": [
    "# Read in the file\n",
    "newpath = '/Users/awburns2/Downloads/Taylor_FullLyrics_By_Song_up.csv'      \n",
    "tswizzle=pd.read_csv(newpath)\n",
    "tswizzle['song_title'] = tswizzle['song_title'].str.strip()"
   ]
  },
  {
   "cell_type": "code",
   "execution_count": 3,
   "metadata": {},
   "outputs": [],
   "source": [
    "#optional print to check if it worked\n",
    "#print(tswizzle.iloc[2:50,1:4])\n",
    "#tswizzle['album'].unique()\n",
    "#print(tswizzle[tswizzle['album'] == 'folklore'])"
   ]
  },
  {
   "cell_type": "code",
   "execution_count": 4,
   "metadata": {},
   "outputs": [],
   "source": [
    "#Get top 5 tracks for each song\n",
    "\n",
    "#songs = ['You Need To Calm Down', \"exile (Ft. Bon Iver)\", 'Style', 'august', 'Wildest Dreams', 'I Knew You Were Trouble','We Are Never Ever Getting Back Together','Back to December','Mean','Fifteen','...Ready for It?','cardigan','Delicate','Gorgeous','The Archer','Fearless','Tim McGraw','End Game (Ft. Ed Sheeran & Future)','Mine','White Horse','Speak Now',\"Should've Said No\",'Look What You Made Me Do','ME! (Ft. Brendon Urie)','Love Story','Shake It Off','The Story of Us','Blank Space','the 1','betty','The Man','Begin Again','You Belong with Me','22','Red','Teardrops On My Guitar','Bad Blood','Our Song','Lover']\n",
    "\n",
    "#tswizzle = tswizzle[tswizzle['song_title'].isin(songs)]"
   ]
  },
  {
   "cell_type": "code",
   "execution_count": 5,
   "metadata": {},
   "outputs": [
    {
     "data": {
      "text/plain": [
       "39"
      ]
     },
     "execution_count": 5,
     "metadata": {},
     "output_type": "execute_result"
    }
   ],
   "source": [
    "#Optionally check if demo album removal worked\n",
    "tswizzle['song_title'].nunique()\n",
    "#print(tswizzle)"
   ]
  },
  {
   "cell_type": "code",
   "execution_count": 6,
   "metadata": {},
   "outputs": [],
   "source": [
    "#import stop words\n",
    "from nltk.corpus import stopwords\n",
    "stop_words=set(stopwords.words(\"english\"))"
   ]
  },
  {
   "cell_type": "code",
   "execution_count": 7,
   "metadata": {},
   "outputs": [],
   "source": [
    "# optional print and check stop words\n",
    "#print(stop_words)"
   ]
  },
  {
   "cell_type": "code",
   "execution_count": 9,
   "metadata": {},
   "outputs": [],
   "source": [
    "#updating stop words list with several entries unique to Taylor and tokenization\n",
    "#Some are now obsolete after some data clean up\n",
    "stop_words.update(['[Verse]', '[Verse 1]', '[Chorus]', '[Verse 1: Future]', '[Verse 1: Taylor Swift]'])\n",
    "stop_words.update(['[Intro]', '[Intro: Idris Elba & James Corden]', '[Intro: Ed Sheeran]'])\n",
    "stop_words.update(['[Pre-Chorus]','[Pre-Chorus:Taylor Swift]','[PreChorus 1]', '[PreChorus]'])\n",
    "stop_words.update(['[Recorder Click]', '[Refrain]'])\n",
    "stop_words.update(['Verse','1','Chorus','Pre','PreChorus','Hook'])\n",
    "stop_words.update([\"mm\", \"mmm\", \"mmmm\",\"i'ma\"])\n",
    "stop_words.update([\"ah\", \"oh\",\"ohoh\",\"ahah\",\"ooh\",\"aah\", \"Ha\", \"ohoh\",\"oohoohoohooh\"])\n",
    "stop_words.update([\"uh\",\"huh\",\"ey\",\"radidididididididididada\",\"dada\", \"oohoohoohoohooh\",\"e\"])\n",
    "punc=string.punctuation\n",
    "stop_words.update(punc)\n",
    "stop_words.update([\"'re\",\"'ve\",\"'s\",\"n't\",\"'m\",'\"',\"''\",\"``\",\"'ll\",\"na\",\"ai\",\"'d\",\"...\"])\n",
    "stop_words.update([\"thi\",\"wa\",\"ca\",\"cause\",\"caus\",\"'caus\",\"'cause\",\"'em\", \"ha\"])\n",
    "stop_words.update(['vers','post-choru','2','bridg','choru','1','pre-choru','ah-aah-aah-aah-aah-hafhaa','ooh-ooh-ooh-ooh','ooh-ooh-ooh','eeh-eeh-eeh','outro'])"
   ]
  },
  {
   "cell_type": "code",
   "execution_count": 10,
   "metadata": {},
   "outputs": [],
   "source": [
    "# optional double check that all stop words are loaded\n",
    "#print(stop_words)"
   ]
  },
  {
   "cell_type": "code",
   "execution_count": 11,
   "metadata": {},
   "outputs": [],
   "source": [
    "#import some stuff to tokenize and stem\n",
    "from nltk.tokenize import word_tokenize\n",
    "from nltk.stem import PorterStemmer"
   ]
  },
  {
   "cell_type": "code",
   "execution_count": 12,
   "metadata": {},
   "outputs": [],
   "source": [
    "stem=PorterStemmer()\n",
    "\n",
    "tokenized_lyrics=[]"
   ]
  },
  {
   "cell_type": "code",
   "execution_count": 14,
   "metadata": {},
   "outputs": [],
   "source": [
    "#Run through lyics, tokenize and stem, creates a list with a \n",
    "# list of words for each song in the same order as the csv\n",
    "for line in range(0,len(tswizzle['lyrics'])):\n",
    "    tokenized_word = word_tokenize(tswizzle.iloc[line,2])\n",
    "    for word in range(0,len(tokenized_word)):\n",
    "        tokenized_word[word] = stem.stem(tokenized_word[word])\n",
    "    tokenized_lyrics.append(tokenized_word)\n",
    "    \n",
    "#print(tokenized_lyrics)"
   ]
  },
  {
   "cell_type": "code",
   "execution_count": 15,
   "metadata": {},
   "outputs": [],
   "source": [
    "#Filter out all the stop words\n",
    "filtered_lyrics=[]\n",
    "for song in range(0,len(tswizzle['lyrics'])):\n",
    "    filtered_lyric=[]\n",
    "    for word in range(0,len(tokenized_lyrics[song])):\n",
    "        tokenized_lyrics[song][word]=tokenized_lyrics[song][word].lower()\n",
    "        if tokenized_lyrics[song][word] not in stop_words:\n",
    "            filtered_lyric.append(tokenized_lyrics[song][word])\n",
    "    \n",
    "    filtered_lyrics.append(filtered_lyric)"
   ]
  },
  {
   "cell_type": "code",
   "execution_count": 16,
   "metadata": {},
   "outputs": [],
   "source": [
    "#Join filtered lyrics back into individual songs in a list\n",
    "test = []\n",
    "\n",
    "for i in filtered_lyrics:\n",
    "    temp = \" \".join(i)\n",
    "    test.append(temp)"
   ]
  },
  {
   "cell_type": "code",
   "execution_count": 17,
   "metadata": {},
   "outputs": [],
   "source": [
    "#Make lists so we can use kmeans/LDA clustering. The main list: tswizzle_list is one list with the iterable objects as the stemmed and filtered words for each song\n",
    "tswizzle_list = test\n",
    "tswizzle_song_list = tswizzle['song_title'].values.tolist()\n",
    "tswizzle_album_list = tswizzle['album'].values.tolist()\n"
   ]
  },
  {
   "cell_type": "code",
   "execution_count": 18,
   "metadata": {},
   "outputs": [],
   "source": [
    "#optional print\n",
    "#print(tswizzle_list)\n",
    "\n"
   ]
  },
  {
   "cell_type": "code",
   "execution_count": 19,
   "metadata": {},
   "outputs": [],
   "source": [
    "# Remove punctuation from the songs\n",
    "\n",
    "tswizzle_list_abv = [ ]\n",
    "\n",
    "punc = string.punctuation.replace( '-', '' )\n",
    "for i in range( 0, len( tswizzle_list ) ):\n",
    "    tswizzle_list_abv.append( re.sub( '[' + punc + ']+', '', tswizzle_list[ i ] ) )"
   ]
  },
  {
   "cell_type": "code",
   "execution_count": 23,
   "metadata": {},
   "outputs": [],
   "source": [
    "#print(tswizzle_list_abv)"
   ]
  },
  {
   "cell_type": "code",
   "execution_count": 24,
   "metadata": {},
   "outputs": [],
   "source": [
    "#Confirms # of lines to choose from\n",
    "#len(tswizzle_list_abv)"
   ]
  },
  {
   "cell_type": "code",
   "execution_count": 25,
   "metadata": {},
   "outputs": [],
   "source": [
    "# Remove empty lyrics after stop word removal\n",
    "\n",
    "i = 0\n",
    "while i < len( tswizzle_list_abv ):\n",
    "    if len( tswizzle_list_abv[ i ] ) == 0:\n",
    "        del tswizzle_list_abv[ i ]\n",
    "    else:\n",
    "        i += 1"
   ]
  },
  {
   "cell_type": "code",
   "execution_count": 26,
   "metadata": {},
   "outputs": [],
   "source": [
    "# Convert frequencies to TF-IDF values, get cosine similarity\n",
    "# of all pairs of documents\n",
    "\n",
    "tfidf = TfidfVectorizer( max_df=0.8, max_features=1000 )\n",
    "term_vec = tfidf.fit_transform( tswizzle_list_abv )\n",
    "X = cosine_similarity( term_vec )"
   ]
  },
  {
   "cell_type": "code",
   "execution_count": 27,
   "metadata": {
    "scrolled": false
   },
   "outputs": [],
   "source": [
    "# Fit vectors for Kmeans clusters\n",
    "\n",
    "clust = KMeans( n_clusters=8, random_state=1 ).fit( X )"
   ]
  },
  {
   "cell_type": "code",
   "execution_count": 28,
   "metadata": {},
   "outputs": [],
   "source": [
    "#Determines # of clusters\n",
    "\n",
    "import numpy as np\n",
    "from scipy.spatial.distance import cdist\n",
    "\n",
    "def elbow( X, max_clust=25 ):\n",
    "    distort = [ ]\n",
    "    inertia = [ ]\n",
    "\n",
    "    map_distort = { }\n",
    "    map_inertia = { }\n",
    "\n",
    "    elbow_distort = 1\n",
    "    elbow_inertia = 1\n",
    "\n",
    "    K = range( 1, max_clust )\n",
    "    for k in K:\n",
    "        kmean_model = KMeans( n_clusters=k )\n",
    "        kmean_model.fit( X )\n",
    "\n",
    "        distort.append( sum( np.min( cdist( X, kmean_model.cluster_centers_, 'euclidean' ), axis=1 ) ) / X.shape[ 0 ] )\n",
    "        inertia.append( kmean_model.inertia_ )\n",
    "\n",
    "        map_distort[ k ] = sum( np.min( cdist( X, kmean_model.cluster_centers_, 'euclidean' ), axis=1 ) ) / X.shape[ 0 ]\n",
    "        map_inertia[ k ] = kmean_model.inertia_\n",
    "\n",
    "    prev_k = ''\n",
    "    prev_v = 0\n",
    "    prev_pct = 0\n",
    "    for i,(k,v) in enumerate( map_distort.items() ):\n",
    "        if prev_k == '':\n",
    "            print( f'{k}: {v:.4f}' )\n",
    "            prev_k = str( k )\n",
    "            prev_v = v\n",
    "            continue\n",
    "\n",
    "        print( f'{k}: {v:.4f} ', end='' )\n",
    "\n",
    "        diff_v = prev_v - v\n",
    "        diff_v_pct = diff_v / prev_v * 100.0\n",
    "        print( f'{diff_v:.4f}, {diff_v_pct:.2f}%' )\n",
    "\n",
    "        if i > 2 and prev_pct - diff_v_pct < 0.5:\n",
    "            elbow_distort = i + 1\n",
    "            break\n",
    "\n",
    "        prev_k = str( k )\n",
    "        prev_v = v\n",
    "        prev_pct = diff_v_pct\n",
    "\n",
    "    print()\n",
    "\n",
    "    prev_k = ''\n",
    "    prev_v = 0\n",
    "    prev_pct = 0\n",
    "    for i,(k,v) in enumerate( map_inertia.items() ):\n",
    "        if prev_k == '':\n",
    "            print( f'{k}: {v:.4f}' )\n",
    "            prev_k = str( k )\n",
    "            prev_v = v\n",
    "            continue\n",
    "\n",
    "        print( f'{k}: {v:.4f} ', end='' )\n",
    "\n",
    "        diff_v = prev_v - v\n",
    "        diff_v_pct = diff_v / prev_v * 100.0\n",
    "        print( f'{diff_v:.4f}, {diff_v_pct:.2f}%' )\n",
    "\n",
    "        if i > 2 and prev_pct - diff_v_pct < 0.5:\n",
    "            elbow_inertia = i + 1\n",
    "            break\n",
    "\n",
    "        prev_k = str( k )\n",
    "        prev_v = v\n",
    "        prev_pct = diff_v_pct\n",
    "\n",
    "    return max( elbow_distort, elbow_inertia )"
   ]
  },
  {
   "cell_type": "code",
   "execution_count": 29,
   "metadata": {},
   "outputs": [
    {
     "name": "stdout",
     "output_type": "stream",
     "text": [
      "1: 0.9520\n",
      "2: 0.9304 0.0216, 2.27%\n",
      "3: 0.9089 0.0215, 2.32%\n",
      "4: 0.8949 0.0140, 1.54%\n",
      "5: 0.8745 0.0204, 2.28%\n",
      "\n",
      "1: 35.3873\n",
      "2: 33.8704 1.5169, 4.29%\n",
      "3: 32.3722 1.4982, 4.42%\n",
      "4: 31.2999 1.0723, 3.31%\n",
      "5: 29.9705 1.3294, 4.25%\n"
     ]
    },
    {
     "data": {
      "text/plain": [
       "5"
      ]
     },
     "execution_count": 29,
     "metadata": {},
     "output_type": "execute_result"
    }
   ],
   "source": [
    "#Shows the number of clusters based on inertia and distort\n",
    "#Can be used to determine the \"real\" amount of clusters\n",
    "elbow(X)\n",
    "\n",
    "#This is the end of TF_IDF. Code below is for concept clustering"
   ]
  },
  {
   "cell_type": "code",
   "execution_count": 30,
   "metadata": {},
   "outputs": [],
   "source": [
    "#Concept Clustering - LDA clustering"
   ]
  },
  {
   "cell_type": "code",
   "execution_count": 31,
   "metadata": {},
   "outputs": [],
   "source": [
    "import pandas as pd\n",
    "from sklearn.decomposition import LatentDirichletAllocation as LDA\n",
    "from sklearn.feature_extraction.text import CountVectorizer"
   ]
  },
  {
   "cell_type": "code",
   "execution_count": 32,
   "metadata": {},
   "outputs": [],
   "source": [
    "# Count raw term frequencies\n",
    "\n",
    "count = CountVectorizer()\n",
    "term_vec = count.fit_transform( tswizzle_list_abv )\n",
    "\n",
    "n_concepts = 8"
   ]
  },
  {
   "cell_type": "code",
   "execution_count": 33,
   "metadata": {},
   "outputs": [],
   "source": [
    "# Build a string list of [ 'Topic 1', 'Topic 2', ..., 'Topic n' ]\n",
    "\n",
    "col_nm = [ ]\n",
    "for i in range( 1, n_concepts + 1 ):\n",
    "    col_nm += [ f'Concept {i}' ]"
   ]
  },
  {
   "cell_type": "code",
   "execution_count": 34,
   "metadata": {},
   "outputs": [],
   "source": [
    "# Fit an LDA model to the term vectors, get cosine similarities\n",
    "\n",
    "lda_model = LDA( n_components=n_concepts, random_state = 1 )\n",
    "concept = lda_model.fit_transform( term_vec )\n",
    "X = cosine_similarity( concept )"
   ]
  },
  {
   "cell_type": "code",
   "execution_count": 35,
   "metadata": {},
   "outputs": [
    {
     "name": "stdout",
     "output_type": "stream",
     "text": [
      "Concept 0: back yeah night gon think know ever like ooh shake\n",
      "Concept 1: sick nobodi got trust need like man look made oh\n",
      "Concept 2: know think like blood bad babi knew got say troubl\n",
      "Concept 3: like mani would know back time gave sign think never\n",
      "Concept 4: feel hate say stay face make see could gorgeou right\n",
      "Concept 5: one back see got babi time like never go know\n",
      "Concept 6: yeah red reput big got love game end like wan\n",
      "Concept 7: see gon away us back fifteen never mine hope la\n",
      "\n"
     ]
    }
   ],
   "source": [
    "# Print top 10 terms for each topic\n",
    "\n",
    "feat = count.get_feature_names()\n",
    "topic_list = [ ]\n",
    "for i,topic in enumerate( lda_model.components_ ):\n",
    "    top_n = [ feat[ i ] for i in topic.argsort()[ -10: ] ]\n",
    "    top_feat = ' '.join( top_n )\n",
    "    topic_list.append( f\"topic_{'_'.join(top_n[ :3 ] ) }\" )\n",
    "\n",
    "    print( f'Concept {i}: {top_feat}' )\n",
    "print()"
   ]
  },
  {
   "cell_type": "code",
   "execution_count": 36,
   "metadata": {},
   "outputs": [],
   "source": [
    "#Create DF's for new clusters of albums\n",
    "\n",
    "#\"New\" Albums created by LDA concepts\n",
    "Album = pd.DataFrame(columns = ['Song', 'Album', 'Cluster'])\n",
    "\n",
    "#Clustered Albums based on Elbow analysis which resulted in 5 concept albums\n",
    "Album_clust = pd.DataFrame(columns = ['Song', 'Album', 'Cluster'])"
   ]
  },
  {
   "cell_type": "code",
   "execution_count": 37,
   "metadata": {},
   "outputs": [
    {
     "name": "stdout",
     "output_type": "stream",
     "text": [
      "Cluster 0:\n",
      "Style ,  1989 (Deluxe)\n",
      "Fearless ,  Fearless\n",
      "Love Story ,  Fearless\n",
      "ME!  (Ft. Brendon Urie) ,  Lover\n",
      "...Ready for It? ,  reputation\n",
      "Back to December ,  Speak Now (Deluxe)\n",
      "Mean ,  Speak Now (Deluxe)\n",
      "Mine ,  Speak Now (Deluxe)\n",
      "The Story of Us ,  Speak Now (Deluxe)\n",
      "Teardrops on My Guitar (Pop Version) ,  Taylor Swift\n",
      "Our Song ,  Taylor Swift\n",
      "\n",
      "Cluster 1:\n",
      "​betty ,  folklore\n",
      "Shake It Off ,  1989 (Deluxe)\n",
      "You Belong with Me ,  Fearless\n",
      "Lover ,  Lover\n",
      "We Are Never Ever Getting Back Together ,  Red\n",
      "22 ,  Red\n",
      "Delicate ,  reputation\n",
      "Tim McGraw ,  Taylor Swift\n",
      "\n",
      "Cluster 2:\n",
      "​exile  (Ft. Bon Iver) ,  folklore\n",
      "​august ,  folklore\n",
      "​the 1 ,  folklore\n",
      "Blank Space ,  1989 (Deluxe)\n",
      "Fifteen ,  Fearless\n",
      "White Horse ,  Fearless\n",
      "You Need To Calm Down ,  Lover\n",
      "The Archer ,  Lover\n",
      "The Man ,  Lover\n",
      "Begin Again ,  Red\n",
      "Red ,  Red\n",
      "Gorgeous ,  reputation\n",
      "End Game  (Ft. Ed Sheeran & Future) ,  reputation\n",
      "Look What You Made Me Do ,  reputation\n",
      "Should've Said No ,  Taylor Swift\n",
      "\n",
      "Cluster 3:\n",
      "​cardigan ,  folklore\n",
      "Wildest Dreams ,  1989 (Deluxe)\n",
      "Bad Blood ,  1989 (Deluxe)\n",
      "I Knew You Were Trouble ,  Red\n",
      "Speak Now ,  Speak Now (Deluxe)\n",
      "\n"
     ]
    }
   ],
   "source": [
    "# Clusters of \"new\" albums if we use results from inertia/distortion with a result of 5 distinct clusters\n",
    "\n",
    "clust = KMeans( n_clusters=4, random_state = 1 ).fit( concept )\n",
    "\n",
    "for i in range( 0, len( set( clust.labels_ ) ) ):\n",
    "    print( f'Cluster {i}:' )\n",
    "    for j in range( 0, len( clust.labels_ ) ):\n",
    "        if clust.labels_[ j ] != i:\n",
    "            continue\n",
    "        print( tswizzle_song_list[j], \", \", tswizzle_album_list[j])\n",
    "        \n",
    "        Album_clust = Album_clust.append({'Song' : tswizzle_song_list[j], 'Album' : tswizzle_album_list[j], 'Cluster' : i }, ignore_index=True)\n",
    "\n",
    "    print()"
   ]
  },
  {
   "cell_type": "code",
   "execution_count": 38,
   "metadata": {},
   "outputs": [
    {
     "name": "stdout",
     "output_type": "stream",
     "text": [
      "Cluster 0:\n",
      "betti wo make assumpt whi switch homeroom think betti one time ride skateboard pass hous like could breath heard rumor inez believ word say time time true worst thing ever show parti would would want would tell go fuck lead garden garden would trust told summer thing onli seventeen know anyth know miss betti know went wrong favorit song play far side gym nowher found hate crowd know plu saw danc heard rumor inez believ word say time time true worst thing ever show parti would would want would tell go fuck lead garden garden would trust told summer thing onli seventeen know anyth know miss walk home broken cobbleston think pull like figment worst intent said jame get let drive day turn night slept next dreamt summer long 3 betti doorstep plan week final sinkin betti right last time dream happen see face onli thing wan make show parti yeah show parti yeah show parti love kiss porch front stupid friend kiss like dream patch broken wing onli seventeen know anyth know miss stand cardigan kissin car stop streetlight know miss ​betty folklore\n",
      "stay late got noth brain peopl say peopl say go mani date make stay least peopl say peopl say keep cruisin stop wo stop movin like got music mind say gon alright player gon play play play play play hater gon hate hate hate hate hate babi gon shake shake shake shake shake shake shake heartbreak gon break break break break break faker gon fake fake fake fake fake babi gon shake shake shake shake shake shake shake never miss beat lightn feet ’ see ’ see danc danc make move go move go know ’ ’ know keep cruisin stop wo stop groovin like got music mind say gon alright player gon play play play play play hater gon hate hate hate hate hate babi gon shake shake shake shake shake shake shake heartbreak gon break break break break break faker gon fake fake fake fake fake babi gon shake shake shake shake shake shake shake shake shake shake shake shake shake shake shake interlud hey hey hey think get liar dirti dirti cheat world could get sick beat ex-man brought hi new girlfriend like “ god ” gon shake fella hella good hair wo come babi shake shake shake yeah player gon play play play play play hater gon hate hate hate hate hate hater gon hate babi gon shake shake shake shake shake shake shake heartbreak gon break break break break break mmhm faker gon fake fake fake fake fake fake fake fake babi gon shake shake shake shake shake shake shake shake shake shake shake shake shake shake shake shake shake shake shake shake shake shake shake yeah shake shake shake shake got shake shake shake shake video direct mark romanek Shake It Off 1989 (Deluxe)\n",
      "phone girlfriend upset go someth said doe get humor like room typic tuesday night listen kind music doe like never know stori like wear short skirt wear t-shirt cheer captain bleacher dream day wake find look whole time could see one understand along whi see belong belong walk street worn-out jean help think ought laugh park bench think hey easi got smile could light whole town seen sinc brought say fine know better hey whatcha girl like wear high heel wear sneaker cheer captain bleacher dream day wake find look whole time could see one understand along whi see belong stand wait back door time could know babi belong belong rememb drive hous middl night one make laugh know 'bout cri know favorit song tell 'bout dream think know belong think know see one understand along whi see belong stand wait back door time could know babi belong belong belong ever thought mayb belong belong You Belong with Me Fearless\n",
      "could leav christma light 'til januari place make rule dazzl haze mysteri way dear known 20 second 20 year go go alway close forev ever take take home lover could let friend crash live room place make call highli suspici everyon see want love three summer honey want go go alway close forev ever take take home forev ever lover ladi gentlemen pleas stand everi guitar string scar hand take magnet forc man lover heart borrow blue well end well end swear overdramat true lover save dirtiest joke everi tabl save seat lover go go alway close forev ever take take home forev ever darl lover Lover Lover\n",
      "rememb broke first time say enough like seen month said need space come around say babi miss swear gon chang trust rememb last day say hate break call love ooh-ooh-ooh-ooh-ooh call last night ooh-ooh-ooh-ooh-ooh time tell tell never ever ever get back togeth never ever ever get back togeth go talk friend talk friend talk never ever ever ever get back togeth like ever realli gon miss pick fight fall scream right would hide away find peac mind indi record much cooler mine ooh-ooh-ooh-ooh-ooh call tonight ooh-ooh-ooh-ooh-ooh time tell tell never ever ever get back togeth never ever ever ever get back togeth go talk friend talk friend talk talk never ever ever ever get back togeth ooh-ooh-ooh-ooh-ooh yeah ooh-ooh-ooh-ooh-ooh yeah ooh-ooh-ooh-ooh-ooh yeah oh-oh-oh use think forev ever use say never say never ugh call like still love like just- mean exhaust know like never get back togeth like ever never ever ever get back togeth never ever ever get back togeth go talk friend talk friend talk never ever ever ever get back togeth ooh-ooh-ooh-ooh-ooh get back togeth ooh-ooh-ooh-ooh-ooh yeah get back togeth go talk friend talk friend talk talk never ever ever ever get back togeth We Are Never Ever Getting Back Together Red\n",
      "feel like perfect night dress like hipster make fun exe uh-uh uh-uh feel like perfect night breakfast midnight fall love stranger uh-uh uh-uh yeah happi free confus lone time miser magic yeah tonight night forget deadlin time oh-oh know feel 22 everyth alright keep next know bet want everyth alright keep danc like 22 22 seem like one night place crowd mani cool kid uh-uh uh-uh taylor swift anyway ew seem like one night ditch whole scene end dream instead sleep yeah happi free confus lone best way miser magic yeah tonight night forget heartbreak time oh-oh hey know feel 22 everyth alright keep next know bet want everyth alright alright keep danc like 22 22 know 22 22 feel like one night ditch whole scene feel like one night wo sleep feel like one night look like bad news got ta got ta yeah hey know feel 22 everyth alright keep next know bet want everyth alright keep danc like 22 whoa 22 danc like 22 yeah yeah 22 yeah yeah yeah feel like one night ditch whole scene feel like one night wo sleep feel like one night look like bad news got ta got ta 22 Red\n",
      "intro best reput never wors must like me… make ani promis babe make drink dive bar east side phone light nightstand black come meet back dark jean nike look damn never seen color blue think fun thing could like best reput never wors must like me… yeah want make ani promis babe make drink cool said chill head know delic delic cool said soon yet know delic delic third floor west side handsom mansion view girl back home touch like long night hand hair echo footstep stair stay honey wan share like best reput never wors must like me… yeah want make ani promis babe make drink cool said chill head know delic delic cool said soon yet know delic delic sometim wonder sleep ever dream sometim look eye pretend mine damn time like cool said chill head know delic delic yeah want cool said soon yet know delic delic like cool said chill head know delic yeah want cool said soon yet know delic delic Delicate reputation\n",
      "said way blue eye shine put georgia star shame night said lie boy chevi truck tendenc gettin stuck backroad night right besid summer long time woke find summer gone think tim mcgraw hope think favorit song one danc night long moon like spotlight lake think happi hope think littl black dress think head chest old fade blue jean think tim mcgraw hope think septemb saw month tear thankin god see like box beneath bed letter never read three summer back hard find littl bittersweet lookin back nice believ think tim mcgraw hope think favorit song one danc night long moon like spotlight lake think happi hope think littl black dress think head chest old fade blue jean think tim mcgraw hope think back first time sinc standin street letter left doorstep first thing read think hope take back place think happi hope think littl black dress think head chest old fade blue jean think tim mcgraw hope think think said way blue eye shine put georgia star shame night said lie Tim McGraw Taylor Swift\n",
      "\n",
      "Cluster 1:\n",
      "combat readi combat say want cruelti win movi got hundr thrown-out speech almost said easi come easi go jump train ride alon never grew get old help hold archer prey could ever leav darl could stay dark side search dark side alright right right right cut nose spite face hate reflect year year wake night pace like ghost room fire invis smoke hero die alon help hold archer prey scream could ever leav darl could stay see right see right see right see right see right see right see right see right see right see right king hors king men could put togeth enemi start friend help hold archer prey could ever leav darl could stay see right see right could stay could stay could stay could stay could stay combat readi combat The Archer Lover\n",
      "intro gorgeou take compliment got drunk made fun way talk think consequ magnet field littl strong got boyfriend older us club doin know cool make hate much hate much whiski ice sunset vine ruin life mine gorgeou say anyth face look face furiou make feel way say gorgeou take compliment talk everyon think consequ touch hand darken room dark room dark room got girlfriend jealou singl honestli wors gorgeou actual hurt honey hurt ocean blue eye look mine feel like might sink drown die gorgeou say anyth face face look face look face gorgeou furiou make feel way feel way say gorgeou make happi turn back sad noth hate gorgeou make mad mmh make happi turn back sad yeah noth hate guess stumbl home cat yeugh alon unless wan come along gorgeou say anyth face face look face look face furiou furiou make feel way feel way say say gorgeou make happi turn back sad yeah noth hate gorgeou make mad mmh gorgeou make happi turn back sad turn back sad noth hate gorgeou make mad mmh gorgeou Gorgeous reputation\n",
      "\n",
      "Cluster 2:\n",
      "justin vernon see stand honey hi arm around bodi laughin joke funni took five whole minut pack us leav holdin love hall justin vernon think seen film befor like end homeland anymor defend town exil seein think seen film befor justin vernon taylor swift see starin honey like understudi like get knuckl bloodi second third hundredth chanc balancin break branch eye add insult injuri taylor swift think seen film befor like end problem anymor offend crown exil seein think seen film befor leav side door justin vernon taylor swift step right amount cri time alway walk veri thin line even hear even hear never gave warn sign gave mani sign time never learn read mind never learn read mind could turn thing around never turn thing around never gave warn sign gave mani sign mani sign mani sign even see sign taylor swift justin vernon taylor swift think seen film befor like end homeland anymor defend town exil seein think seen film befor leavin side door justin vernon taylor swift step right amount cri time alway walk veri thin line even hear even hear never gave warn sign gave mani sign time never learn read mind never learn read mind could turn thing around never turn thing around never gave warn sign gave mani sign never gave warn sign time mani time never learn read mind mani sign could turn thing around could turn thing around never gave warn sign never gave warn sign never gave warn sign ​exile  (Ft. Bon Iver) folklore\n",
      "good new shit say ye instead thought saw bu stop though hit ground run night hit sunday matiné know greatest film time never made guess never know never know want realli show never bleed never gon grow alright someth think roar twenti toss penni pool wish came true would defens none never leav well enough alon would fun would one dream cool shit adventur meet woman internet take home never paint number babi make count know greatest love time guess never know never know anoth day wake alon someth think roar twenti toss penni pool wish came true would defens none never leav well enough alon would fun would one persist resist temptat ask one thing differ would everyth differ today someth think rosé flow chosen famili would sweet could defens none dig grave anoth time would fun would one ​the 1 folklore\n",
      "say sorri face angel come need pace back forth time honestli believ holdin day drag stupid girl shoulda known shoulda known princess fairytal one sweep feet lead stairwel hollywood small town dreamer befor went let late white hors come around mayb naiv got lost eye never realli chanc mistak know love fight upper hand mani dream happi end know princess fairytal one sweep feet lead stairwel hollywood small town dreamer befor went let late white hors come around knee beggin forgiv beggin like alway want sorri princess fairytal gon find someon someday might actual treat well big world small town rear view mirror disappear late white hors late white hors catch whoa whoa whoa tri catch late catch White Horse Fearless\n",
      "took deep breath mirror like wore high heel turn lock put headphon alway said get song walk expect late got earli stand wave walk pull chair help know nice throw head back laugh like littl kid think strang think funni never spend last eight month think love ever doe break burn end wednesday cafe watch begin said never met one girl mani jame taylor record tell stori know whi come littl shi throw head back laugh like littl kid think strang think funni never spend last eight month think love ever doe break burn end wednesday cafe watch begin walk block car almost brought start talk movi famili watch everi singl christma talk first time past past throw head back laugh like littl kid think strang think funni never spend last eight month think love ever doe break burn end wednesday cafe watch begin wednesday cafe watch begin Begin Again Red\n",
      "strang think song use sing smile flower everyth gone yesterday found even look feel wrong say take back given one chanc moment weak said ye said gone home thought twice 'fore let go known word 'bout ’ get back get back back mind ask whi beg forgiv feet said babi might still see cri babi know right thing say honestli expect believ could ever say past past need one chanc moment weak said ye said gone home thought twice 'fore let go known word 'bout ’ get back get back back mind ask whi beg forgiv feet said babi might still resist befor go tell worth worth said gone home thought twice 'fore let go known word 'bout ’ get back get back back mind ask whi beg forgiv feet said babi might still Should've Said No Taylor Swift\n",
      "\n",
      "Cluster 3:\n",
      "midnight come pick headlight long drive could end burn flame paradis fade view sinc even heard heard tell leav know exactli lead watch us go 'round 'round time got jame dean daydream look eye got red lip classic thing like go crash come back everi time never go style never go style got long hair slick back white t-shirt got good girl faith tight littl skirt go crash come back everi time never go style never go style goe keep hi wild eye road take home light take hi coat yeah say heard girl girl say heard true stop think 'bout said time got jame dean daydream look eye got red lip classic thing like go crash come back everi time never go style never go style got long hair slick back white t-shirt got good girl faith tight littl skirt tight littl skirt go crash come back everi time never go style never go never go never go style take home take home yeah take home oh-oh whoa-oh style got jame dean daydream look eye got red lip classic thing like go crash go come back everi time never go style never go style Style 1989 (Deluxe)\n",
      "someth 'bout way street look rain glow pavement walk car know wan ask danc right middl park lot yeah yeah drive road wonder know tri hard get caught cool run hand hair absentmindedli make want know get better take hand drag head first fearless know whi danc storm best dress fearless babi drive slow 'til run road one hors town wan stay right passeng seat put eye moment captur rememb know get better take hand drag head first fearless know whi danc storm best dress fearless well stood doorway hand shake usual way pull littl brave first kiss flawless realli someth fearless yeah know get better take hand drag head first fearless know whi danc storm best dress fearless know get better take hand drag head first fearless know whi danc storm best dress fearless yeah Fearless Fearless\n",
      "young first saw close eye flashback start stand balconi summer air see light see parti ball gown see make way crowd say hello littl know romeo throw pebbl daddi said stay away juliet cri staircas beg pleas go said romeo take somewher alon wait left run princ princess love stori babi say ye sneak garden see keep quiet dead knew close eye escap town littl romeo scarlet letter daddi said stay away juliet everyth beg pleas go said romeo take somewher alon wait left run princ princess love stori babi say ye romeo save tri tell feel love difficult real afraid make mess love stori babi say ye got tire wait wonder ever come around faith fade met outskirt town said romeo save feel alon keep wait never come head know think knelt ground pull ring said 3 marri juliet never alon love realli know talk dad go pick white dress love stori babi say 'ye young first saw Love Story Fearless\n",
      "intro taylor swift promis never find anoth like taylor swift know hand babi know never think befor jump kind guy ladi want lot cool chick know went psycho phone never leav well enough alon troubl gon follow go lot cool chick taylor swift one thing like like rainbow color babi doll come lover promis never find anoth like taylor swift me-e- onli one babi fun onli one babi fun promis nobodi gon love like me-e- brendon uri taylor swift know tend make know never get see never bore babi lot lame guy fight rain ran call name never wan see walk away lot lame guy taylor swift brendon uri brendon uri one thing like livin winter summer babi doll come lover promis never find anoth like brendon uri taylor swift brendon uri me-e- onli one let keep compani onli one babi fun promis nobodi gon love like me-e- brendon uri taylor swift girl team know strike band 3 promis never find anoth like girl team know spell awesom without promis never find anoth like taylor swift brendon uri me-e- yeah want ya babi onli one onli one babi fun babi fun onli one babi fun promis nobodi gon love like me-e- brendon uri taylor swift girl team know onli one oh-oh babi fun strike band 3 spell awesom without onli one babi fun promis nobodi gon love like me-e- ME!  (Ft. Brendon Urie) Lover\n",
      "knew killer first time saw wonder mani girl love left haunt ghost phantom holdin ransom boy tryin hard tri though younger exe act like man see noth better keep forev like vendetta-ta see gon go touch never alon i-island breez light low one know middl night dream see thing babi middl night dream know gon take time readi knew robber first time saw steal heart run never sayin sorri thief join heist move island jailer burton taylor everi love known comparison failur forget name veri tame never see gon go touch never alon i-island breez light low one know one know middl night dream see thing babi middl night dream know gon take time readi readi babi let game begin let game begin let game begin babi let game begin let game begin let game begin see gon go touch never alon i-island breez light low one know middl night night dream dream see thing babi babi hmm eh middl night dream dream know gon know gon take time middl night babi let game begin let game begin let game begin readi babi let game begin let game begin let game begin readi ...Ready for It? reputation\n",
      "glad made time see life tell famili seen good busier ever small talk work weather guard know whi becaus last time saw still burn back mind gave rose left die swallow pride stand front say sorri night go back decemb time turn freedom noth miss wish realiz mine go back decemb turn around make alright go back decemb time day sleep stay play back leav birthday pass call think summer beauti time watch laugh passeng side realiz love fall cold came dark day fear crept mind gave love gave goodby swallow pride stand front say sorri night go back decemb time turn freedom noth miss wish realiz mine go back decemb turn around chang mind go back decemb time miss tan skin sweet smile good right held arm septemb night first time ever saw cri mayb wish think probabl mindless dream love swear love right go back time chang chain door understand swallow pride stand front say sorri night go back decemb turn freedom noth miss wish realiz mine go back decemb turn around make alright go back decemb turn around chang mind go back decemb time time Back to December Speak Now (Deluxe)\n",
      "word like knive sword weapon use knock feet got feel like noth voic like nail chalkboard call wound pick weaker man well take one singl blow know know someday live big old citi ever gon mean someday big enough hit ever gon mean whi got ta mean switch side wildfir lie humili point flaw alreadi see walk head tri block never impress wan feel okay bet got push around somebodi made cold cycl end right lead road know know someday live big old citi ever gon mean someday big enough hit ever gon mean whi got ta mean see year bar talk footbal game big loud opinion nobodi listen wash rant old bitter thing drunk grumbl sing mean mean liar pathet alon life mean mean mean mean breakdown someday live big old citi ever gon mean yeah someday big enough hit ever gon mean whi got ta mean someday live big old citi whi got ta mean ever gon mean whi got ta mean someday big enough hit whi got ta mean ever gon mean whi got ta mean Mean Speak Now (Deluxe)\n",
      "colleg work part-tim wait tabl left small town never look back flight risk fear fall wonder whi bother love never last say believ lie couch moment could see ye ye see rememb sit water put arm around first time made rebel careless man care daughter best thing ever mine flash forward take world togeth drawer thing place learn secret figur whi guard say never make parent mistak got bill pay got noth figur hard take ye ye thought rememb sit water put arm around first time made rebel careless man care daughter best thing ever mine rememb citi light water saw start believ first time made rebel careless man care daughter best thing ever mine rememb fight 2:30 everyth slip right hand ran cri follow street brace goodby ever known took surpris said never leav alon said rememb felt sit water everi time look like first time fell love careless man care daughter best thing ever mine hold make last hold never turn back made rebel careless man care daughter best thing ever mine yeah yeah believ hold gon make hold see yeah yeah see see Mine Speak Now (Deluxe)\n",
      "use think one day tell stori us met spark flew instantli peopl would say lucki one use know place spot next search room empti seat late even know page simpl complic miscommun lead fallout mani thing wish knew mani wall break stand alon crowd room speak die know kill like kill yeah know say sinc twist fate broke stori us look lot like tragedi next chapter end way see nervous pull cloth tri look busi best avoid start think one day tell stori us lose mind saw held pride like held scare see end whi pretend noth tell miss know never heard silenc quit loud stand alon crowd room speak die know kill like kill yeah know say sinc twist fate broke stori us look lot like tragedi look like contest act like care less like better side battl hand would lay armor say rather love fight mani thing wish knew stori us might end soon stand alon crowd room speak die know kill like kill yeah know say sinc twist fate broke stori us look lot like tragedi speak die know kill like kill yeah know say sinc twist fate go stori us look lot like tragedi end The Story of Us Speak Now (Deluxe)\n",
      "drew look fake smile wo see want need everyth bet beauti girl talk got everyth live without drew talk laugh funni even see anyon say love final got right wonder know think night reason teardrop guitar onli thing keep wish wish star song car keep sing know whi 3 drew walk tell breath goe perfectli kind flawless wish could 3 better hold tight give love look beauti eye know lucki reason teardrop guitar onli thing keep wish wish star song car keep sing know whi drive home alon turn light put hi pictur mayb get sleep tonight reason teardrop guitar onli one got enough break heart song car keep sing know whi time taken never enough need fall drew look fake smile wo see Teardrops on My Guitar (Pop Version) Taylor Swift\n",
      "ride shotgun hair undon front seat hi car got one-hand feel steer wheel heart look around turn radio say babi someth wrong say noth think song say song slam screen door sneakin late tap window phone talk real slow late mama know song way laugh first date man kiss got home 'fore said amen ask god could play walk front porch step everyth day gone wrong trampl lost thrown away got hallway well way lovin bed almost notic rose note said song slam screen door sneakin late tap window phone talk real slow late mama know song way laugh first date man kiss got home 'fore said amen ask god could play heard everi album listen radio wait someth come along good song song slam screen door sneakin late tap hi window phone talk real slow late hi mama know song way laugh first date man kiss got home 'fore said amen ask god could play play ride shotgun hair undon front seat hi car grab pen old napkin wrote song Our Song Taylor Swift\n",
      "\n",
      "Cluster 4:\n",
      "nice meet could show incred thing magic mad heaven sin saw thought god look face blank space love game wan play ayi new money suit tie read like magazin funni rumor fli know heard hey let friend dyin see one end grab passport hand make bad guy good weekend gon forev gon go flame tell high worth pain got long list ex-lov tell insan know love player love game young reckless take way far leav breathless hmm nasti scar got long list ex-lov tell insan got blank space babi write name 3 cherri lip crystal sky could show incred thing stolen kiss pretti lie king babi queen find want girl month wait worst yet come 4 scream cri perfect storm make tabl turn rose garden fill thorn keep second guessin like god get drunk jealousi come back time leav darl nightmar dress like daydream gon forev gon go flame tell high worth pain got long list ex-lov tell insan know love player love game young reckless take way far leav breathless hmm nasti scar got long list ex-lov tell insan got blank space babi write name boy onli want love tortur say say warn ya boy onli want love tortur say say warn ya gon forev gon go flame tell high worth pain got long list ex-lov tell insan know love player love game young reckless take way far leav breathless hmm nasti scar got long list ex-lov tell insan got blank space babi write name Blank Space 1989 (Deluxe)\n",
      "love like drive new maserati dead-end street faster wind passion sin end suddenli love like tri chang mind onc alreadi fli free fall like color autumn bright befor lose lose blue like never known miss dark grey alon forget like tri know somebodi never met love red love red touch like realiz ever want right front memor easi know word old favorit song fight like tri solv crossword realiz right answer regret like wish never found love could strong lose blue like never known miss dark grey alon forget like tri know somebodi never met love red red burn red rememb come flashback echo tell time got ta let go move imposs still see head burn red love red lose blue like never known miss dark grey alon forget like tri know somebodi never met love red yeah yeah red burn red breakdown whi spin 'round head come back burn red yeah yeah hi love like drive new maserati dead-end street Red Red\n",
      "taylor swift futur wan end game wan first string wan a-team whoa whoa whoa wan end game end game taylor swift futur big reput big reput got big reput heard got big enemi yeah big reput big reput would big convers git git heard yeah like bad one futur dope overdos ’ stoke need toast ghost like whippin ’ boat got reput girl preced yeah one call away whenev need yeah g5 yeah come a-sid yeah got bad boy persona like like love love type type hold protect life taylor swift futur wan touch wan anoth ex-lov ’ wan see ’ wan miss wan miss like girl ’ wan hurt wan drink beach know say know say tryna play taylor swift wan end game end game wan first string first string wan a-team a-team wan end game end game ed sheeran knew young reconnect littl bit older sprung got issu chip shoulder reput preced rumor knee-deep truth easier ignor believ even ’ argu long understand good bad end song beauti trait way eas flaw paranoia insecur made mistak made choic hard deni storm someth born 4th juli pass day without fun end game one four word tip tongu never say taylor swift wan touch wan anoth ex-lov wan see wan miss wan miss like girl wan hurt wan drink beach know say yeah tryna play taylor swift wan end game end game wan first string wan first string wan a-team a-team wan end game end game taylor swift futur big reput big reput got big reput heard got big enemi hey big reput big reput would big convers heard like bad one 3 taylor swift hit like bang tri forget could buri hatchet keep map put reput preced told crazi swear love drama love let go hand print soul like eye liquor like bodi gold call bluff usual trick truth red lip taylor swift futur ed sheeran wan end game end game wan first string first string wan a-team a-team a-team wan end game end game wan end game wan first string first string wan a-team a-team wan end game end game End Game  (Ft. Ed Sheeran & Future) reputation\n",
      "\n",
      "Cluster 5:\n",
      "somebodi know takin shot like patrón like damn 7 say street knock-out say tweet cop-out like hey okay tryna mess self-express learn lesson stressin obsessin 'bout somebodi els fun snake stone never broke bone oh-oh oh-oh oh-oh oh-oh oh-oh need calm loud like oh-oh oh-oh oh-oh oh-oh oh-oh need stop like step gown need calm somebodi know comin friend like missil whi mad could glaad could glaad sunshin street parad would rather dark age makin sign must taken night need take sever seat tri restor peac control urg scream peopl hate shade never made anybodi less gay oh-oh oh-oh oh-oh oh-oh oh-oh need calm loud like oh-oh oh-oh oh-oh oh-oh oh-oh need stop like step hi gown need calm see internet compar girl kill figur know got crown need calm oh-oh oh-oh oh-oh oh-oh oh-oh need calm need calm loud loud like oh-oh oh-oh oh-oh oh-oh oh-oh need stop stop like step gown need calm You Need To Calm Down Lover\n",
      "would complex would cool say play field befor found someon commit would okay everi conquest made would make boss ’ fearless leader alpha type everyon believ ya like ’ sick run fast wonder get quicker man sick come man man man man say hustl put work ’ shake head question much deserv wear rude could separ good idea power move would toast let player play ’ like leo saint-tropez sick run fast wonder ’ get quicker man sick come man man ’ man man like brag rake dollar get bitch model good bad okay mad flash dollar bitch baller paint bad okay mad sick run fast wonder get quicker man know sick come come man man man man sick run fast fast wonder get quicker man hey sick come come man man man man man man yeah man man man man The Man Lover\n",
      "like littl game like tilt stage role made play fool like like perfect crime laugh lie said gun mine cool like got smarter got harder nick time honey rose dead time got list name red underlin check onc check twice look made look made look made look made me— look made look made look made look made like kingdom key onc belong ask place sleep lock threw feast world move anoth day anoth drama drama think karma world move one thing sure mayb got mine get got smarter got harder nick time honey rose dead time got list name red underlin check onc check twice look made look made look made look made me— look made look made look made look made trust nobodi nobodi trust actress star bad dream trust nobodi nobodi trust actress star bad dream trust nobodi nobodi trust actress star bad dream trust nobodi nobodi trust actress star bad dream look made look made look made look made me— look made look made look made me— sorri old taylor come phone right whi dead look made look made look made look made me— look made look made look made look made look made look made look made look made me— look made look made look made look made Look What You Made Me Do reputation\n",
      "\n",
      "Cluster 6:\n",
      "vintag tee brand new phone high heel cobbleston young assum know noth sequin smile black lipstick sensual polit young assum know noth knew dancin levi drunk streetlight knew hand sweatshirt babi kiss better refrain felt like old cardigan someon bed put said favorit friend friend none chase two girl lose one young assum know noth knew play hide-and-seek give weekend knew heartbeat high line onc twenti lifetim refrain felt like old cardigan someon bed put said favorit kiss car downtown bar need drew star around scar bleedin knew steppin last train mark like bloodstain knew tri chang end peter lose wendi knew leavin like father run like water young assum know noth 3 knew linger like tattoo kiss knew haunt what-if smell smoke would hang around long knew everyth young knew curs longest time chasin shadow groceri line knew miss onc thrill expir standin front porch light knew come back come back come back come back refrain felt like old cardigan someon bed put said favorit ​cardigan folklore\n",
      "intro said let get town drive citi away crowd thought heaven help noth last forev gon take tall handsom hell bad doe well see end begin one condit say rememb stand nice dress stare sunset babe red lip rosi cheek say see even wildest dream ah-aah haa wildest dream ah-aah haa said one know hi hand hair hi cloth room hi voic familiar sound noth last forev gettin good tall handsom hell bad doe well veri last kiss last request say rememb stand nice dress stare sunset babe red lip rosi cheek say see even wildest dream ah-aah haa ah-aah haa wildest dream ah-aah haa see hindsight tangl night burnin someday leav bet memori follow around see hindsight tangl night burn burn someday leav bet memori follow follow around around follow around breakdown say rememb stand nice dress stare sunset babe red lip rosi cheek say see even pretend say rememb stand nice dress stare sunset babe red lip rosi cheek say see even pretend pretend wildest dream ah-aah wildest dream ah-aah haa even wildest dream ah-aah haa wildest dream ah-aah haa Wildest Dreams 1989 (Deluxe)\n",
      "’ babi got bad blood know use mad love take look done ’ babi got bad blood hey got problem think solv made realli deep cut babi got bad blood hey think could trust ruin shini rust hit weak babi could breath rub deep salt wound like laugh right sad think good time ’ babi got bad blood know use mad love take look done ’ babi got bad blood hey got problem think solv made realli deep cut babi got bad blood hey think fine still got scar back knive think past kind wound last last think thing catch time heal wo come way sad think good time ’ babi got bad blood know use mad love take look done ’ babi got bad blood hey got problem think solv made realli deep cut babi got bad blood hey band-aid fix bullet hole say sorri show live like live ghost band-aid fix bullet hole say sorri show live like live ghost love like blood run cold ’ babi got bad blood know use mad love take look done ’ babi got bad blood hey got problem think solv think solv made realli deep cut babi got bad blood hey ’ babi got bad blood know use mad love take look done look done ’ babi got bad blood hey got problem think solv made realli deep cut babi got bad blood hey Bad Blood 1989 (Deluxe)\n",
      "intro onc upon time mistak ago sight got alon found found found guess care guess like fell hard took step back without without without long gone next realiz blame knew troubl walk shame flew place never 'til put knew troubl walk shame flew place never lie cold hard ground oh-oh troubl troubl troubl oh-oh troubl troubl troubl apolog never see cri pretend doe know reason whi drown drown drown heard move whisper street new notch belt ever see see see long gone met realiz joke hey knew troubl walk shame flew place never 'til put knew troubl walk shame flew place never yeah lie cold hard ground oh-oh yeah troubl troubl troubl oh-oh troubl troubl troubl saddest fear come creep never love anyon anyth yeah knew troubl walk shame flew place never never 'til put knew troubl walk knew right shame knew right flew place never lie cold hard ground oh-oh troubl troubl troubl oh-oh troubl troubl troubl knew troubl walk troubl troubl troubl knew troubl walk troubl troubl troubl I Knew You Were Trouble Red\n",
      "intro kind girl rude barg white veil occas kind boy marri wrong girl sneak see friend snotti littl famili dress pastel yell bridesmaid somewher back insid room wear gown shape like pastri sure thought would lose daydream stand say say ye run away meet church back door wait say singl vow need hear said speak fond gestur exchang organ start play song sound like death march hide curtain seem uninvit love bride-to-b float aisl like pageant queen know wish wish say ye run away meet church back door wait say singl vow need hear said speak say ye run away meet church back door wait say singl vow time run said speak interlud la-da-da-da say singl vow hear preacher say speak forev hold peac silenc last chanc stand shake hand eye horrifi look everyon room onli look 3 kind girl rude barg white veil occas kind boy marri wrong girl hehe say ye run away meet church back door wait say singl vow need hear said speak variat say let run away tux back door babi say vow glad around said speak Speak Now Speak Now (Deluxe)\n",
      "\n",
      "Cluster 7:\n",
      "salt air rust door never need anyth whisper sure never ever befor see us lost memori august slip away moment time never mine see us twist bedsheet august sip away like bottl wine never mine back beneath sun wishin could write name call back school rememb thinkin see us lost memori august slip away moment time never mine see us twist bedsheet august sip away like bottl wine never mine back still changin better want enough enough live hope cancel plan case call say meet behind mall much summer love say us mine lose mine lose see us lost memori august slip away moment time never mine see us twist bedsheet august sip away like bottl wine never mine never mine never mine rememb rememb pull said get car cancel plan case call back livin hope hope meet behind mall rememb pull said get car cancel plan case call back livin hope hope meet behind mall rememb pull said get car cancel plan case call back livin hope hope hope hope hope hope ​august folklore\n",
      "take deep breath walk door morn veri first day say hi friend seen tri stay everybodi way freshman year gon next four year town hope one senior boy wink say know seen around befor fifteen somebodi tell love gon believ fifteen feel like noth figur well count ten take life befor know gon fifteen sit class next redhead name abigail soon enough best friend laugh girl think cool outta soon veri first date got car feel like fli momma wait think one danc 'round room night end night end fifteen somebodi tell love gon believ fifteen first kiss make head spin 'round life thing greater date boy footbal team know fifteen want want wish could go back tell know back swore gon marri someday realiz bigger dream mine abigail gave everyth boy chang hi mind cri fifteen somebodi tell love gon believ fifteen forget look befor fall found time heal anyth might find suppos know suppos fifteen la la la la la la la la la la la la la la la la la la la la la la la la la la veri first day take deep breath girl take deep breath walk door Fifteen Fearless\n",
      "\n"
     ]
    }
   ],
   "source": [
    "# Cluster sentences and print clusters\n",
    "\n",
    "clust = KMeans( n_clusters=8, random_state = 1 ).fit( concept )\n",
    "\n",
    "for i in range( 0, len( set( clust.labels_ ) ) ):\n",
    "    print( f'Cluster {i}:' )\n",
    "    for j in range( 0, len( clust.labels_ ) ):\n",
    "        if clust.labels_[ j ] != i:\n",
    "            continue\n",
    "        print( tswizzle_list[ j ], tswizzle_song_list[j], tswizzle_album_list[j])\n",
    "        \n",
    "        Album = Album.append({'Song' : tswizzle_song_list[j], 'Album' : tswizzle_album_list[j], 'Cluster' : i }, ignore_index=True)\n",
    "        \n",
    "    print()"
   ]
  },
  {
   "cell_type": "code",
   "execution_count": null,
   "metadata": {},
   "outputs": [],
   "source": [
    "#print(Album)\n",
    "#print(Album_clust)"
   ]
  },
  {
   "cell_type": "code",
   "execution_count": 39,
   "metadata": {},
   "outputs": [],
   "source": [
    "Album.to_csv('/Users/awburns2/Documents/Top5New8Albums Full Lyrics.csv')\n",
    "Album_clust.to_csv('/Users/awburns2/Documents/Top5NewAlbumConcepts Full Lyrics.csv')"
   ]
  },
  {
   "cell_type": "code",
   "execution_count": null,
   "metadata": {},
   "outputs": [],
   "source": []
  }
 ],
 "metadata": {
  "kernelspec": {
   "display_name": "Python 3",
   "language": "python",
   "name": "python3"
  },
  "language_info": {
   "codemirror_mode": {
    "name": "ipython",
    "version": 3
   },
   "file_extension": ".py",
   "mimetype": "text/x-python",
   "name": "python",
   "nbconvert_exporter": "python",
   "pygments_lexer": "ipython3",
   "version": "3.7.4"
  }
 },
 "nbformat": 4,
 "nbformat_minor": 2
}
